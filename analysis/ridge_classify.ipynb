{
 "cells": [
  {
   "cell_type": "markdown",
   "metadata": {},
   "source": [
    "In this notebook, we will test Ridge Classifier which is acting like Logistic Classifier but with regularization"
   ]
  },
  {
   "cell_type": "code",
   "execution_count": 8,
   "metadata": {},
   "outputs": [],
   "source": [
    "import numpy as np\n",
    "import pandas as pd\n",
    "import matplotlib.pyplot as plt\n",
    "from scripts.metrics import classification_metrics\n",
    "from sklearn.linear_model import RidgeClassifier\n",
    "from scripts.data_load import preprocess_data\n",
    "import seaborn as sns\n",
    "\n",
    "sns.set(palette=\"colorblind\")\n",
    "%matplotlib inline"
   ]
  },
  {
   "cell_type": "code",
   "execution_count": 9,
   "metadata": {},
   "outputs": [],
   "source": [
    "feature_transformer, (X_train, y_train), (X_val, y_val), (X_test, y_test) = preprocess_data()"
   ]
  },
  {
   "cell_type": "markdown",
   "metadata": {},
   "source": [
    "Let's see what would be off-shelf results from Ridge Classfier\n"
   ]
  },
  {
   "cell_type": "code",
   "execution_count": null,
   "metadata": {},
   "outputs": [
    {
     "data": {
      "text/plain": [
       "{'accuracy_score': 0.8818847500795924,\n",
       " 'precision_score': np.float64(0.8826530612244898),\n",
       " 'recall_score': np.float64(0.8809675366008911),\n",
       " 'f1_score': np.float64(0.8818094934692577)}"
      ]
     },
     "execution_count": 13,
     "metadata": {},
     "output_type": "execute_result"
    }
   ],
   "source": [
    "clf = RidgeClassifier()\n",
    "clf.fit(X_train, y_train)\n",
    "y_val_pred = clf.predict(X_val)\n",
    "naive_results = classification_metrics(y_val, y_val_pred)\n",
    "naive_results"
   ]
  },
  {
   "cell_type": "markdown",
   "metadata": {},
   "source": [
    "Let's analyzer how regularization strength affects train vs validation results"
   ]
  },
  {
   "cell_type": "code",
   "execution_count": 15,
   "metadata": {},
   "outputs": [],
   "source": [
    "reg_alphas = [0.001, 0.01, 0.1, 1.0, 10.0, 100.0, 1000.0]\n",
    "\n",
    "train_accuracy_history = []\n",
    "val_accuracy_history = []\n",
    "\n",
    "train_precision_history = []\n",
    "val_precision_history = []\n",
    "\n",
    "train_recall_history = []\n",
    "val_recall_history = []\n",
    "\n",
    "train_f1score_history = []\n",
    "val_f1score_history = []\n",
    "\n",
    "for reg in reg_alphas:\n",
    "    clf = RidgeClassifier()\n",
    "    clf.fit(X_train, y_train)\n",
    "    y_train_pred = clf.predict(X_train)\n",
    "    y_val_pred = clf.predict(X_val)\n",
    "    train_results = classification_metrics(y_train, y_train_pred)\n",
    "    val_results = classification_metrics(y_val, y_val_pred)\n",
    "\n",
    "    train_accuracy_history.append(train_results['accuracy_score'])\n",
    "    val_accuracy_history.append(val_results['accuracy_score'])\n",
    "\n",
    "    train_precision_history.append(train_results['precision_score'])\n",
    "    val_precision_history.append(val_results['precision_score'])\n",
    "\n",
    "    train_recall_history.append(train_results['recall_score'])\n",
    "    val_recall_history.append(val_results['recall_score'])\n",
    "\n",
    "    train_f1score_history.append(train_results['f1_score'])\n",
    "    val_f1score_history.append(val_results['f1_score'])"
   ]
  },
  {
   "cell_type": "code",
   "execution_count": null,
   "metadata": {},
   "outputs": [],
   "source": [
    "fig, axis = plt.subplots(nrows=2, ncols=2, figsize=(12, 6))\n",
    "\n",
    "axis[0, 0].plot(reg_alphas, train_accuracy_history)\n",
    "axis[0, 0].plot(reg_alphas, val_accuracy_history)"
   ]
  }
 ],
 "metadata": {
  "kernelspec": {
   "display_name": "Deep-Voice-Deep-Fake-Voice-Recognition-Ch-yytdl",
   "language": "python",
   "name": "python3"
  },
  "language_info": {
   "codemirror_mode": {
    "name": "ipython",
    "version": 3
   },
   "file_extension": ".py",
   "mimetype": "text/x-python",
   "name": "python",
   "nbconvert_exporter": "python",
   "pygments_lexer": "ipython3",
   "version": "3.12.1"
  }
 },
 "nbformat": 4,
 "nbformat_minor": 2
}
